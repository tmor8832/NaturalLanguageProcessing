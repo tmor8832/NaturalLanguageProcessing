{
  "nbformat": 4,
  "nbformat_minor": 0,
  "metadata": {
    "colab": {
      "name": "BBC_NLP.ipynb",
      "provenance": [],
      "authorship_tag": "ABX9TyPVNPsorJi1VcbyviLv1Fbk",
      "include_colab_link": true
    },
    "kernelspec": {
      "name": "python3",
      "display_name": "Python 3"
    },
    "language_info": {
      "name": "python"
    }
  },
  "cells": [
    {
      "cell_type": "markdown",
      "metadata": {
        "id": "view-in-github",
        "colab_type": "text"
      },
      "source": [
        "<a href=\"https://colab.research.google.com/github/tmor8832/NaturalLanguageProcessing/blob/master/BBC_NLP.ipynb\" target=\"_parent\"><img src=\"https://colab.research.google.com/assets/colab-badge.svg\" alt=\"Open In Colab\"/></a>"
      ]
    },
    {
      "cell_type": "code",
      "metadata": {
        "id": "62XcsXyCqojk"
      },
      "source": [
        "#def setup(): #apologies i could not generate a requirements.txt i spent hours trying but couldnt manage it inside jupyter or mac os terminal \n",
        "\n",
        "import json #add all the relevant libraries\n",
        "from urllib.request import urlopen #to open the urls\n",
        "import requests\n",
        "from bs4 import BeautifulSoup #needed for parsing HTML\n",
        "import spacy #used for NLP\n",
        "from spacy import displacy #useful for jupyter\n",
        "import en_core_web_sm #small english trained model\n",
        "nlp = en_core_web_sm.load() #load this model as the nlp\n",
        "\n",
        "def bbc_scraper(url):\n",
        "   \n",
        "  information = {} #set up empty dictionary to store data before saving as .json \n",
        "  information['Url Data'] = [] \n",
        "  html = urlopen(url)\n",
        "  soup = BeautifulSoup(html, 'html.parser') #create a soup from the given url\n",
        "  body = soup.find_all('p', class_= 'ssrcss-1q0x1qg-Paragraph eq5iqo00', text=True)\n",
        "  a = str(body)\n",
        "  a.replace('</p>, <p class=\"ssrcss-1q0x1qg-Paragraph eq5iqo00\">', '')\n",
        "  a.replace('[<p class=\"ssrcss-1q0x1qg-Paragraph eq5iqo00\"><b class=\"ssrcss-hmf8ql-BoldText e5tfeyi3\">', ' ')\n",
        "  a.replace('</b></p>, <p class=\"ssrcss-1q0x1qg-Paragraph eq5iqo00\">', ' ')\n",
        "  a.replace('</b></p>, <p class=\"ssrcss-1q0x1qg-Paragraph eq5iqo00\">','')\n",
        "  a.replace('</p>, <p class=\"ssrcss-1q0x1qg-Paragraph eq5iqo00\">', '')\n",
        "  a.replace('<p class=\"ssrcss-1q0x1qg-Paragraph eq5iqo00\"><b class=\"ssrcss-hmf8ql-BoldText e5tfeyi3\">','')\n",
        "\n",
        "  url_location = soup.find('link', rel=\"canonical\")\n",
        "  url_name = url_location['href'] #get the url name from the soup (not needed as given but just for show)\n",
        "  title = soup.title.text #only the text from the title \n",
        "  print(title)\n",
        "  print(a)\n",
        "        \n",
        "  information['Url Data'].append({ #append the info from the url to the dictionary\n",
        "        'Url': url_name,\n",
        "        'Title': soup.title.text,\n",
        "        'Contents': a\n",
        "        })\n",
        "\n",
        "  results_json = json.dumps(information, indent=4) #create a json object and make it more legible\n",
        "\n",
        "  return results_json\n",
        "\n",
        "def extract_entities(string):\n",
        "\n",
        "  PERSON = [] #empty lists to hold entities before adding to dictionary\n",
        "  ORG = []\n",
        "  GPE = []\n",
        "\n",
        "  doc = nlp(string) #pass the variable name from the function\n",
        "  for word in doc.ents:\n",
        "    if word.label_=='PERSON': #if the world label matches the required one then add it to the appropriate list\n",
        "      tidy = str(word.text)\n",
        "      tidy = tidy.replace('\\\\n',\" \") #spacy fails to tidy up some of this so this was added to delete unwanted \n",
        "      tidy = tidy.replace('\\\\\"',\" \") #(cont) characters from the words and applied to all 3 labels\n",
        "      tidy = tidy.replace('\\\\',\" \")\n",
        "      PERSON.append(tidy)\n",
        "      PERSON = list(dict.fromkeys(PERSON))\n",
        "    if word.label_=='ORG': #Organisations\n",
        "      tidy = str(word.text)\n",
        "      tidy = tidy.replace('\\\\n',\" \")\n",
        "      tidy = tidy.replace('\\\\\"',\" \")\n",
        "      tidy = tidy.replace('\\\\',\" \")\n",
        "      ORG.append(tidy)\n",
        "      ORG = list(dict.fromkeys(ORG))\n",
        "    if word.label_=='GPE': #Places\n",
        "      tidy = str(word.text)\n",
        "      tidy = tidy.replace('\\\\n',\" \")\n",
        "      tidy = tidy.replace('\\\\\"',\" \")\n",
        "      tidy = tidy.replace('\\\\',\" \")\n",
        "      GPE.append(tidy)\n",
        "      GPE = list(dict.fromkeys(GPE))\n",
        "\n",
        "  Processed_Data = { #dictionary to hold the processed entities \n",
        "    'People': PERSON,\n",
        "    'Organisations': ORG,\n",
        "    'Places': GPE }\n",
        "\n",
        "  entities_json = json.dumps(Processed_Data, indent=4) #save dictionary to a json object and make it prettier\n",
        "\n",
        "  return entities_json"
      ],
      "execution_count": 40,
      "outputs": []
    },
    {
      "cell_type": "code",
      "metadata": {
        "colab": {
          "base_uri": "https://localhost:8080/"
        },
        "id": "NvKY2lMmT5X4",
        "outputId": "42bddec6-d0bd-42b8-8f95-199757f409ce"
      },
      "source": [
        "url = 'https://www.bbc.co.uk/news/business-59508286'\n",
        "\n",
        "url_info = bbc_scraper(url)\n",
        "\n",
        "NLP_Data = extract_entities(body_new)\n",
        "\n",
        "print(url_info)\n",
        "print(NLP_Data)"
      ],
      "execution_count": 41,
      "outputs": [
        {
          "output_type": "stream",
          "name": "stdout",
          "text": [
            "Retailers make shocking petrol profit, says RAC - BBC News\n",
            "[<p class=\"ssrcss-1q0x1qg-Paragraph eq5iqo00\"><b class=\"ssrcss-hmf8ql-BoldText e5tfeyi3\">Retailers are continuing to put up fuel prices when they should reduce them in line with savings in wholesale oil prices, the RAC motoring services organisation has claimed. </b></p>, <p class=\"ssrcss-1q0x1qg-Paragraph eq5iqo00\">In response to concerns about the Omicron variant, oil prices fell by around $10 a barrel last week. </p>, <p class=\"ssrcss-1q0x1qg-Paragraph eq5iqo00\">But this reduced wholesale fuel price has not been reflected at the pumps.</p>, <p class=\"ssrcss-1q0x1qg-Paragraph eq5iqo00\">Retailers added on average another 3.1p to a litre of unleaded petrol and 2.7p to diesel in November. </p>, <p class=\"ssrcss-1q0x1qg-Paragraph eq5iqo00\">The RAC said this hike in petrol prices was \"completely unjustified\", with larger retailers making a \"shocking\" profit.</p>, <p class=\"ssrcss-1q0x1qg-Paragraph eq5iqo00\">In particular, the RAC pointed the finger at supermarket chains who are major fuel retailers, such as Asda, Sainsbury's, Tesco and Morrisons, saying they should have reduced prices, but had instead increased them \"unnecessarily\". </p>, <p class=\"ssrcss-1q0x1qg-Paragraph eq5iqo00\">\"Since Covid they've been far more reluctant to pass on any savings, even though the frequency with which they buy means they are in a position to pass on any savings in the wholesale price to drivers far more quickly,\" RAC fuel spokesperson Simon Williams told the BBC. </p>, <p class=\"ssrcss-1q0x1qg-Paragraph eq5iqo00\">\"It would be much fairer if retailers mirrored wholesale prices more closely on a daily or weekly basis.\" </p>, <p class=\"ssrcss-1q0x1qg-Paragraph eq5iqo00\">A spokesperson from the British Retail Consortium said: \"Supermarkets are keen to provide their customers with the best value for petrol through their forecourts, offering the cheapest petrol in the country. </p>, <p class=\"ssrcss-1q0x1qg-Paragraph eq5iqo00\">\"However, prices at the pump will be influenced by various forces, including tax, oil prices and operational costs.\"</p>, <p class=\"ssrcss-1q0x1qg-Paragraph eq5iqo00\">The RAC has urged the government to intervene and said the chancellor's fuel duty freeze last month is not enough.</p>, <p class=\"ssrcss-1q0x1qg-Paragraph eq5iqo00\">\"The government should ask the biggest retailers to explain why they're charging such high prices for fuel when wholesale prices have dropped,\" Mr Williams added. </p>, <p class=\"ssrcss-1q0x1qg-Paragraph eq5iqo00\">A government spokesperson said: \"Fuel prices are increasing in countries across the world and this is not an issue unique to the UK. </p>, <p class=\"ssrcss-1q0x1qg-Paragraph eq5iqo00\">\"We've provided £4.2bn of support to help people with the cost of living, including effectively cutting taxes for workers on Universal Credit, providing £500m of targeted support for the most vulnerable families and freezing fuel duty for the twelfth year in a row.\" </p>, <p class=\"ssrcss-1q0x1qg-Paragraph eq5iqo00\">Analysis by the RAC found that despite wholesale costs having fallen by 7p from the middle of the month, retailers continued to put prices up, with the average cost of a litre of unleaded petrol ending the month at 147.28p and diesel up to 150.64p. </p>, <p class=\"ssrcss-1q0x1qg-Paragraph eq5iqo00\">Prices for both fuels peaked at record highs on 20 November and 21 November respectively - diesel reaching 151.1p per litre and petrol at 147.72p.</p>, <p class=\"ssrcss-1q0x1qg-Paragraph eq5iqo00\">The key factor affecting petrol is the wholesale oil market, meaning any reduction in the oil price should result in buyers paying less at the pumps. </p>, <p class=\"ssrcss-1q0x1qg-Paragraph eq5iqo00\">While the price of petrol is linked to the wholesale price of oil, it is competitively driven. That means the cost motorists are charged is not directly linked to crude. Instead, suppliers control the prices they sell petrol at.</p>, <p class=\"ssrcss-1q0x1qg-Paragraph eq5iqo00\">Mr Williams explained that the current margins big retailers are making have gone up as high as 20p a litre, which is \"unheard of when everyone is driving\".  </p>, <p class=\"ssrcss-1q0x1qg-Paragraph eq5iqo00\">\"Sadly, our data shows all too clearly that drivers are being taken for a ride by retailers at the moment,\" he said. </p>, <p class=\"ssrcss-1q0x1qg-Paragraph eq5iqo00\">However, on Tuesday, motoring group the AA said that the UK's average petrol prices did begin to show the first \"significant fall\" since November 2020.</p>, <p class=\"ssrcss-1q0x1qg-Paragraph eq5iqo00\">Having peaked above 54.5p a litre in the second week of November, the petrol cost to retailers was down to 49p at the start of last week and yesterday dropped below 43p a litre.</p>, <p class=\"ssrcss-1q0x1qg-Paragraph eq5iqo00\">But the RAC said it was not enough of a fall to reflect the plummet in wholesale prices. </p>, <p class=\"ssrcss-1q0x1qg-Paragraph eq5iqo00\">The AA welcomed the consumer petrol price fall, but criticised the fact it had taken so much longer to drop in relation to falling wholesale prices.</p>, <p class=\"ssrcss-1q0x1qg-Paragraph eq5iqo00\">Luke Bosdet, the AA's fuel price spokesman said that previously, the market would \"wait until Asda or Morrisons announced a price cut before starting to move\". </p>, <p class=\"ssrcss-1q0x1qg-Paragraph eq5iqo00\">\"Without that initial kick, pump prices have stagnated, and that is a potentially worrying development if it sets the pattern for the future,\" he said.</p>, <p class=\"ssrcss-1q0x1qg-Paragraph eq5iqo00\">\"In basic pounds, shillings and pence, if a supermarket makes a big deal about discounts of £2 or £3 off the shopping bill, but grabs back £2 to £3 per tank by not passing on savings at the pump, the consumer needs to factor that in.\"</p>, <p class=\"ssrcss-1q0x1qg-Paragraph eq5iqo00\">The Petrol Retailers Association (PRA) represents independently-owned forecourts that collectively account for around two thirds of the UK's forecourts.</p>, <p class=\"ssrcss-1q0x1qg-Paragraph eq5iqo00\"> Because its members buy fuel less frequently than larger supermarkets, it told the BBC that reductions in wholesale prices can take some days to filter through to the pump price.</p>, <p class=\"ssrcss-1q0x1qg-Paragraph eq5iqo00\">\"Electricity prices, business rates, labour costs have all risen and these need to be paid for if your local petrol station is to remain in business,\" said Gordon Balmer, executive director of the PRA.  </p>, <p class=\"ssrcss-1q0x1qg-Paragraph eq5iqo00\">He added that fuel retailers have been hit by the  \"double whammy\" of reduced sales and rising costs.</p>, <p class=\"ssrcss-1q0x1qg-Paragraph eq5iqo00\">\"Our members continually monitor prices to ensure that they remain competitive with their industry counterparts and continue to provide good value for money.\"</p>, <p class=\"ssrcss-1q0x1qg-Paragraph eq5iqo00\">How did Chinese woman Zheng Yi Sao and her army terrorise the seas?</p>, <p class=\"ssrcss-1q0x1qg-Paragraph eq5iqo00\">She doesn't pull any punches when it comes to comedy and chat on life with a disability</p>]\n",
            "{\n",
            "    \"Url Data\": [\n",
            "        {\n",
            "            \"Url\": \"https://www.bbc.co.uk/news/business-59508286\",\n",
            "            \"Title\": \"Retailers make shocking petrol profit, says RAC - BBC News\",\n",
            "            \"Contents\": \"[<p class=\\\"ssrcss-1q0x1qg-Paragraph eq5iqo00\\\"><b class=\\\"ssrcss-hmf8ql-BoldText e5tfeyi3\\\">Retailers are continuing to put up fuel prices when they should reduce them in line with savings in wholesale oil prices, the RAC motoring services organisation has claimed. </b></p>, <p class=\\\"ssrcss-1q0x1qg-Paragraph eq5iqo00\\\">In response to concerns about the Omicron variant, oil prices fell by around $10 a barrel last week. </p>, <p class=\\\"ssrcss-1q0x1qg-Paragraph eq5iqo00\\\">But this reduced wholesale fuel price has not been reflected at the pumps.</p>, <p class=\\\"ssrcss-1q0x1qg-Paragraph eq5iqo00\\\">Retailers added on average another 3.1p to a litre of unleaded petrol and 2.7p to diesel in November. </p>, <p class=\\\"ssrcss-1q0x1qg-Paragraph eq5iqo00\\\">The RAC said this hike in petrol prices was \\\"completely unjustified\\\", with larger retailers making a \\\"shocking\\\" profit.</p>, <p class=\\\"ssrcss-1q0x1qg-Paragraph eq5iqo00\\\">In particular, the RAC pointed the finger at supermarket chains who are major fuel retailers, such as Asda, Sainsbury's, Tesco and Morrisons, saying they should have reduced prices, but had instead increased them \\\"unnecessarily\\\". </p>, <p class=\\\"ssrcss-1q0x1qg-Paragraph eq5iqo00\\\">\\\"Since Covid they've been far more reluctant to pass on any savings, even though the frequency with which they buy means they are in a position to pass on any savings in the wholesale price to drivers far more quickly,\\\" RAC fuel spokesperson Simon Williams told the BBC. </p>, <p class=\\\"ssrcss-1q0x1qg-Paragraph eq5iqo00\\\">\\\"It would be much fairer if retailers mirrored wholesale prices more closely on a daily or weekly basis.\\\" </p>, <p class=\\\"ssrcss-1q0x1qg-Paragraph eq5iqo00\\\">A spokesperson from the British Retail Consortium said: \\\"Supermarkets are keen to provide their customers with the best value for petrol through their forecourts, offering the cheapest petrol in the country. </p>, <p class=\\\"ssrcss-1q0x1qg-Paragraph eq5iqo00\\\">\\\"However, prices at the pump will be influenced by various forces, including tax, oil prices and operational costs.\\\"</p>, <p class=\\\"ssrcss-1q0x1qg-Paragraph eq5iqo00\\\">The RAC has urged the government to intervene and said the chancellor's fuel duty freeze last month is not enough.</p>, <p class=\\\"ssrcss-1q0x1qg-Paragraph eq5iqo00\\\">\\\"The government should ask the biggest retailers to explain why they're charging such high prices for fuel when wholesale prices have dropped,\\\" Mr Williams added. </p>, <p class=\\\"ssrcss-1q0x1qg-Paragraph eq5iqo00\\\">A government spokesperson said: \\\"Fuel prices are increasing in countries across the world and this is not an issue unique to the UK. </p>, <p class=\\\"ssrcss-1q0x1qg-Paragraph eq5iqo00\\\">\\\"We've provided \\u00a34.2bn of support to help people with the cost of living, including effectively cutting taxes for workers on Universal Credit, providing \\u00a3500m of targeted support for the most vulnerable families and freezing fuel duty for the twelfth year in a row.\\\" </p>, <p class=\\\"ssrcss-1q0x1qg-Paragraph eq5iqo00\\\">Analysis by the RAC found that despite wholesale costs having fallen by 7p from the middle of the month, retailers continued to put prices up, with the average cost of a litre of unleaded petrol ending the month at 147.28p and diesel up to 150.64p. </p>, <p class=\\\"ssrcss-1q0x1qg-Paragraph eq5iqo00\\\">Prices for both fuels peaked at record highs on 20 November and 21 November respectively - diesel reaching 151.1p per litre and petrol at 147.72p.</p>, <p class=\\\"ssrcss-1q0x1qg-Paragraph eq5iqo00\\\">The key factor affecting petrol is the wholesale oil market, meaning any reduction in the oil price should result in buyers paying less at the pumps. </p>, <p class=\\\"ssrcss-1q0x1qg-Paragraph eq5iqo00\\\">While the price of petrol is linked to the wholesale price of oil, it is competitively driven. That means the cost motorists are charged is not directly linked to crude. Instead, suppliers control the prices they sell petrol at.</p>, <p class=\\\"ssrcss-1q0x1qg-Paragraph eq5iqo00\\\">Mr Williams explained that the current margins big retailers are making have gone up as high as 20p a litre, which is \\\"unheard of when everyone is driving\\\".  </p>, <p class=\\\"ssrcss-1q0x1qg-Paragraph eq5iqo00\\\">\\\"Sadly, our data shows all too clearly that drivers are being taken for a ride by retailers at the moment,\\\" he said. </p>, <p class=\\\"ssrcss-1q0x1qg-Paragraph eq5iqo00\\\">However, on Tuesday, motoring group the AA said that the UK's average petrol prices did begin to show the first \\\"significant fall\\\" since November 2020.</p>, <p class=\\\"ssrcss-1q0x1qg-Paragraph eq5iqo00\\\">Having peaked above 54.5p a litre in the second week of November, the petrol cost to retailers was down to 49p at the start of last week and yesterday dropped below 43p a litre.</p>, <p class=\\\"ssrcss-1q0x1qg-Paragraph eq5iqo00\\\">But the RAC said it was not enough of a fall to reflect the plummet in wholesale prices. </p>, <p class=\\\"ssrcss-1q0x1qg-Paragraph eq5iqo00\\\">The AA welcomed the consumer petrol price fall, but criticised the fact it had taken so much longer to drop in relation to falling wholesale prices.</p>, <p class=\\\"ssrcss-1q0x1qg-Paragraph eq5iqo00\\\">Luke Bosdet, the AA's fuel price spokesman said that previously, the market would \\\"wait until Asda or Morrisons announced a price cut before starting to move\\\". </p>, <p class=\\\"ssrcss-1q0x1qg-Paragraph eq5iqo00\\\">\\\"Without that initial kick, pump prices have stagnated, and that is a potentially worrying development if it sets the pattern for the future,\\\" he said.</p>, <p class=\\\"ssrcss-1q0x1qg-Paragraph eq5iqo00\\\">\\\"In basic pounds, shillings and pence, if a supermarket makes a big deal about discounts of \\u00a32 or \\u00a33 off the shopping bill, but grabs back \\u00a32 to \\u00a33 per tank by not passing on savings at the pump, the consumer needs to factor that in.\\\"</p>, <p class=\\\"ssrcss-1q0x1qg-Paragraph eq5iqo00\\\">The Petrol Retailers Association (PRA) represents independently-owned forecourts that collectively account for around two thirds of the UK's forecourts.</p>, <p class=\\\"ssrcss-1q0x1qg-Paragraph eq5iqo00\\\"> Because its members buy fuel less frequently than larger supermarkets, it told the BBC that reductions in wholesale prices can take some days to filter through to the pump price.</p>, <p class=\\\"ssrcss-1q0x1qg-Paragraph eq5iqo00\\\">\\\"Electricity prices, business rates, labour costs have all risen and these need to be paid for if your local petrol station is to remain in business,\\\" said Gordon Balmer, executive director of the PRA.  </p>, <p class=\\\"ssrcss-1q0x1qg-Paragraph eq5iqo00\\\">He added that fuel retailers have been hit by the  \\\"double whammy\\\" of reduced sales and rising costs.</p>, <p class=\\\"ssrcss-1q0x1qg-Paragraph eq5iqo00\\\">\\\"Our members continually monitor prices to ensure that they remain competitive with their industry counterparts and continue to provide good value for money.\\\"</p>, <p class=\\\"ssrcss-1q0x1qg-Paragraph eq5iqo00\\\">How did Chinese woman Zheng Yi Sao and her army terrorise the seas?</p>, <p class=\\\"ssrcss-1q0x1qg-Paragraph eq5iqo00\\\">She doesn't pull any punches when it comes to comedy and chat on life with a disability</p>]\"\n",
            "        }\n",
            "    ]\n",
            "}\n",
            "{\n",
            "    \"People\": [\n",
            "        \"Simon Williams\",\n",
            "        \"Williams\",\n",
            "        \"eq5iqo00\\\">Mr Williams\",\n",
            "        \"Morrisons\",\n",
            "        \"Gordon Balmer\",\n",
            "        \"Zheng Yi Sao\"\n",
            "    ],\n",
            "    \"Organisations\": [\n",
            "        \"RAC\",\n",
            "        \"Omicron\",\n",
            "        \"Asda\",\n",
            "        \"Sainsbury\",\n",
            "        \"Tesco\",\n",
            "        \"Morrisons\",\n",
            "        \"BBC\",\n",
            "        \"the British Retail Consortium\",\n",
            "        \"Universal Credit\",\n",
            "        \"AA\",\n",
            "        \"Paragraph eq5iqo00\\\">The Petrol Retailers Association\",\n",
            "        \"PRA\"\n",
            "    ],\n",
            "    \"Places\": [\n",
            "        \"UK\",\n",
            "        \"Bosdet\"\n",
            "    ]\n",
            "}\n"
          ]
        }
      ]
    }
  ]
}